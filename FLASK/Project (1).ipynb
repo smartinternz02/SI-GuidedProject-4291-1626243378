{
  "nbformat": 4,
  "nbformat_minor": 0,
  "metadata": {
    "colab": {
      "name": "Project.ipynb",
      "provenance": [],
      "collapsed_sections": []
    },
    "kernelspec": {
      "display_name": "Python 3",
      "name": "python3"
    },
    "language_info": {
      "name": "python"
    }
  },
  "cells": [
    {
      "cell_type": "code",
      "metadata": {
        "id": "sEssGt5bW7dT",
        "colab": {
          "base_uri": "https://localhost:8080/"
        },
        "outputId": "66f19571-d15e-4c34-d0d5-f541128c5773"
      },
      "source": [
        "from google.colab import drive\n",
        "drive.mount('/content/drive')"
      ],
      "execution_count": null,
      "outputs": [
        {
          "output_type": "stream",
          "text": [
            "Mounted at /content/drive\n"
          ],
          "name": "stdout"
        }
      ]
    },
    {
      "cell_type": "markdown",
      "metadata": {
        "id": "QSXHfhZ5QEP5"
      },
      "source": [
        "import the libraries"
      ]
    },
    {
      "cell_type": "code",
      "metadata": {
        "id": "HpK98Li1Xbgi"
      },
      "source": [
        "import numpy as np\n",
        "import pandas as pd\n",
        "import matplotlib.pyplot as plt\n",
        "import seaborn as sns\n",
        "from collections import Counter as c\n",
        "from sklearn.metrics import accuracy_score,mean_squared_error,mean_absolute_error\n",
        "from sklearn.model_selection import train_test_split\n",
        "import pickle\n",
        "from sklearn.linear_model import LinearRegression"
      ],
      "execution_count": null,
      "outputs": []
    },
    {
      "cell_type": "code",
      "metadata": {
        "id": "PLo3Z8KnXhcv"
      },
      "source": [
        "dataset=pd.read_csv(\"/content/drive/MyDrive/Vaagdevi/concrete_data\")"
      ],
      "execution_count": null,
      "outputs": []
    },
    {
      "cell_type": "markdown",
      "metadata": {
        "id": "Mb8hkQ2bQKjJ"
      },
      "source": [
        "Reading the dataset"
      ]
    },
    {
      "cell_type": "markdown",
      "metadata": {
        "id": "JLNRfU1AQOQb"
      },
      "source": [
        "Display the first 5 columns in dataset"
      ]
    },
    {
      "cell_type": "code",
      "metadata": {
        "colab": {
          "base_uri": "https://localhost:8080/",
          "height": 206
        },
        "id": "onhexLw2YYZo",
        "outputId": "561d3971-4117-4c2c-9a74-8fb6c6037f56"
      },
      "source": [
        "dataset.head()"
      ],
      "execution_count": null,
      "outputs": [
        {
          "output_type": "execute_result",
          "data": {
            "text/html": [
              "<div>\n",
              "<style scoped>\n",
              "    .dataframe tbody tr th:only-of-type {\n",
              "        vertical-align: middle;\n",
              "    }\n",
              "\n",
              "    .dataframe tbody tr th {\n",
              "        vertical-align: top;\n",
              "    }\n",
              "\n",
              "    .dataframe thead th {\n",
              "        text-align: right;\n",
              "    }\n",
              "</style>\n",
              "<table border=\"1\" class=\"dataframe\">\n",
              "  <thead>\n",
              "    <tr style=\"text-align: right;\">\n",
              "      <th></th>\n",
              "      <th>cement</th>\n",
              "      <th>blast_furnace_slag</th>\n",
              "      <th>fly_ash</th>\n",
              "      <th>water</th>\n",
              "      <th>superplasticizer</th>\n",
              "      <th>coarse_aggregate</th>\n",
              "      <th>fine_aggregate</th>\n",
              "      <th>age</th>\n",
              "      <th>concrete_compressive_strength</th>\n",
              "    </tr>\n",
              "  </thead>\n",
              "  <tbody>\n",
              "    <tr>\n",
              "      <th>0</th>\n",
              "      <td>540.0</td>\n",
              "      <td>0.0</td>\n",
              "      <td>0.0</td>\n",
              "      <td>162.0</td>\n",
              "      <td>2.5</td>\n",
              "      <td>1040.0</td>\n",
              "      <td>676.0</td>\n",
              "      <td>28</td>\n",
              "      <td>79.99</td>\n",
              "    </tr>\n",
              "    <tr>\n",
              "      <th>1</th>\n",
              "      <td>540.0</td>\n",
              "      <td>0.0</td>\n",
              "      <td>0.0</td>\n",
              "      <td>162.0</td>\n",
              "      <td>2.5</td>\n",
              "      <td>1055.0</td>\n",
              "      <td>676.0</td>\n",
              "      <td>28</td>\n",
              "      <td>61.89</td>\n",
              "    </tr>\n",
              "    <tr>\n",
              "      <th>2</th>\n",
              "      <td>332.5</td>\n",
              "      <td>142.5</td>\n",
              "      <td>0.0</td>\n",
              "      <td>228.0</td>\n",
              "      <td>0.0</td>\n",
              "      <td>932.0</td>\n",
              "      <td>594.0</td>\n",
              "      <td>270</td>\n",
              "      <td>40.27</td>\n",
              "    </tr>\n",
              "    <tr>\n",
              "      <th>3</th>\n",
              "      <td>332.5</td>\n",
              "      <td>142.5</td>\n",
              "      <td>0.0</td>\n",
              "      <td>228.0</td>\n",
              "      <td>0.0</td>\n",
              "      <td>932.0</td>\n",
              "      <td>594.0</td>\n",
              "      <td>365</td>\n",
              "      <td>41.05</td>\n",
              "    </tr>\n",
              "    <tr>\n",
              "      <th>4</th>\n",
              "      <td>198.6</td>\n",
              "      <td>132.4</td>\n",
              "      <td>0.0</td>\n",
              "      <td>192.0</td>\n",
              "      <td>0.0</td>\n",
              "      <td>978.4</td>\n",
              "      <td>825.5</td>\n",
              "      <td>360</td>\n",
              "      <td>44.30</td>\n",
              "    </tr>\n",
              "  </tbody>\n",
              "</table>\n",
              "</div>"
            ],
            "text/plain": [
              "   cement  blast_furnace_slag  ...  age  concrete_compressive_strength\n",
              "0   540.0                 0.0  ...   28                          79.99\n",
              "1   540.0                 0.0  ...   28                          61.89\n",
              "2   332.5               142.5  ...  270                          40.27\n",
              "3   332.5               142.5  ...  365                          41.05\n",
              "4   198.6               132.4  ...  360                          44.30\n",
              "\n",
              "[5 rows x 9 columns]"
            ]
          },
          "metadata": {
            "tags": []
          },
          "execution_count": 10
        }
      ]
    },
    {
      "cell_type": "markdown",
      "metadata": {
        "id": "eEuLc2sJfhnO"
      },
      "source": [
        "Display the last five columns of dataset"
      ]
    },
    {
      "cell_type": "code",
      "metadata": {
        "colab": {
          "base_uri": "https://localhost:8080/",
          "height": 206
        },
        "id": "VLFulfzZfVy3",
        "outputId": "9a99c31b-6425-4884-f1cc-7857f5ba19bd"
      },
      "source": [
        "dataset.tail()"
      ],
      "execution_count": null,
      "outputs": [
        {
          "output_type": "execute_result",
          "data": {
            "text/html": [
              "<div>\n",
              "<style scoped>\n",
              "    .dataframe tbody tr th:only-of-type {\n",
              "        vertical-align: middle;\n",
              "    }\n",
              "\n",
              "    .dataframe tbody tr th {\n",
              "        vertical-align: top;\n",
              "    }\n",
              "\n",
              "    .dataframe thead th {\n",
              "        text-align: right;\n",
              "    }\n",
              "</style>\n",
              "<table border=\"1\" class=\"dataframe\">\n",
              "  <thead>\n",
              "    <tr style=\"text-align: right;\">\n",
              "      <th></th>\n",
              "      <th>cement</th>\n",
              "      <th>blast_furnace_slag</th>\n",
              "      <th>fly_ash</th>\n",
              "      <th>water</th>\n",
              "      <th>superplasticizer</th>\n",
              "      <th>coarse_aggregate</th>\n",
              "      <th>fine_aggregate</th>\n",
              "      <th>age</th>\n",
              "      <th>concrete_compressive_strength</th>\n",
              "    </tr>\n",
              "  </thead>\n",
              "  <tbody>\n",
              "    <tr>\n",
              "      <th>1025</th>\n",
              "      <td>276.4</td>\n",
              "      <td>116.0</td>\n",
              "      <td>90.3</td>\n",
              "      <td>179.6</td>\n",
              "      <td>8.9</td>\n",
              "      <td>870.1</td>\n",
              "      <td>768.3</td>\n",
              "      <td>28</td>\n",
              "      <td>44.28</td>\n",
              "    </tr>\n",
              "    <tr>\n",
              "      <th>1026</th>\n",
              "      <td>322.2</td>\n",
              "      <td>0.0</td>\n",
              "      <td>115.6</td>\n",
              "      <td>196.0</td>\n",
              "      <td>10.4</td>\n",
              "      <td>817.9</td>\n",
              "      <td>813.4</td>\n",
              "      <td>28</td>\n",
              "      <td>31.18</td>\n",
              "    </tr>\n",
              "    <tr>\n",
              "      <th>1027</th>\n",
              "      <td>148.5</td>\n",
              "      <td>139.4</td>\n",
              "      <td>108.6</td>\n",
              "      <td>192.7</td>\n",
              "      <td>6.1</td>\n",
              "      <td>892.4</td>\n",
              "      <td>780.0</td>\n",
              "      <td>28</td>\n",
              "      <td>23.70</td>\n",
              "    </tr>\n",
              "    <tr>\n",
              "      <th>1028</th>\n",
              "      <td>159.1</td>\n",
              "      <td>186.7</td>\n",
              "      <td>0.0</td>\n",
              "      <td>175.6</td>\n",
              "      <td>11.3</td>\n",
              "      <td>989.6</td>\n",
              "      <td>788.9</td>\n",
              "      <td>28</td>\n",
              "      <td>32.77</td>\n",
              "    </tr>\n",
              "    <tr>\n",
              "      <th>1029</th>\n",
              "      <td>260.9</td>\n",
              "      <td>100.5</td>\n",
              "      <td>78.3</td>\n",
              "      <td>200.6</td>\n",
              "      <td>8.6</td>\n",
              "      <td>864.5</td>\n",
              "      <td>761.5</td>\n",
              "      <td>28</td>\n",
              "      <td>32.40</td>\n",
              "    </tr>\n",
              "  </tbody>\n",
              "</table>\n",
              "</div>"
            ],
            "text/plain": [
              "      cement  blast_furnace_slag  ...  age  concrete_compressive_strength\n",
              "1025   276.4               116.0  ...   28                          44.28\n",
              "1026   322.2                 0.0  ...   28                          31.18\n",
              "1027   148.5               139.4  ...   28                          23.70\n",
              "1028   159.1               186.7  ...   28                          32.77\n",
              "1029   260.9               100.5  ...   28                          32.40\n",
              "\n",
              "[5 rows x 9 columns]"
            ]
          },
          "metadata": {
            "tags": []
          },
          "execution_count": 11
        }
      ]
    },
    {
      "cell_type": "markdown",
      "metadata": {
        "id": "v9AkoVvggOD-"
      },
      "source": [
        "Info the data"
      ]
    },
    {
      "cell_type": "code",
      "metadata": {
        "colab": {
          "base_uri": "https://localhost:8080/"
        },
        "id": "MsT1juAtgNhB",
        "outputId": "55e5d168-0526-49c9-aa39-5ed106f0a8b6"
      },
      "source": [
        "dataset.info()"
      ],
      "execution_count": null,
      "outputs": [
        {
          "output_type": "stream",
          "text": [
            "<class 'pandas.core.frame.DataFrame'>\n",
            "RangeIndex: 1030 entries, 0 to 1029\n",
            "Data columns (total 9 columns):\n",
            " #   Column                         Non-Null Count  Dtype  \n",
            "---  ------                         --------------  -----  \n",
            " 0   cement                         1030 non-null   float64\n",
            " 1   blast_furnace_slag             1030 non-null   float64\n",
            " 2   fly_ash                        1030 non-null   float64\n",
            " 3   water                          1030 non-null   float64\n",
            " 4   superplasticizer               1030 non-null   float64\n",
            " 5   coarse_aggregate               1030 non-null   float64\n",
            " 6   fine_aggregate                 1030 non-null   float64\n",
            " 7   age                            1030 non-null   int64  \n",
            " 8   concrete_compressive_strength  1030 non-null   float64\n",
            "dtypes: float64(8), int64(1)\n",
            "memory usage: 72.5 KB\n"
          ],
          "name": "stdout"
        }
      ]
    },
    {
      "cell_type": "code",
      "metadata": {
        "colab": {
          "base_uri": "https://localhost:8080/",
          "height": 320
        },
        "id": "PjfNioBpQ4PM",
        "outputId": "be09371d-833e-49c9-8d24-381f04302cfa"
      },
      "source": [
        "dataset.describe()"
      ],
      "execution_count": null,
      "outputs": [
        {
          "output_type": "execute_result",
          "data": {
            "text/html": [
              "<div>\n",
              "<style scoped>\n",
              "    .dataframe tbody tr th:only-of-type {\n",
              "        vertical-align: middle;\n",
              "    }\n",
              "\n",
              "    .dataframe tbody tr th {\n",
              "        vertical-align: top;\n",
              "    }\n",
              "\n",
              "    .dataframe thead th {\n",
              "        text-align: right;\n",
              "    }\n",
              "</style>\n",
              "<table border=\"1\" class=\"dataframe\">\n",
              "  <thead>\n",
              "    <tr style=\"text-align: right;\">\n",
              "      <th></th>\n",
              "      <th>cement</th>\n",
              "      <th>blast_furnace_slag</th>\n",
              "      <th>fly_ash</th>\n",
              "      <th>water</th>\n",
              "      <th>superplasticizer</th>\n",
              "      <th>coarse_aggregate</th>\n",
              "      <th>fine_aggregate</th>\n",
              "      <th>age</th>\n",
              "      <th>concrete_compressive_strength</th>\n",
              "    </tr>\n",
              "  </thead>\n",
              "  <tbody>\n",
              "    <tr>\n",
              "      <th>count</th>\n",
              "      <td>1030.000000</td>\n",
              "      <td>1030.000000</td>\n",
              "      <td>1030.000000</td>\n",
              "      <td>1030.000000</td>\n",
              "      <td>1030.000000</td>\n",
              "      <td>1030.000000</td>\n",
              "      <td>1030.000000</td>\n",
              "      <td>1030.000000</td>\n",
              "      <td>1030.000000</td>\n",
              "    </tr>\n",
              "    <tr>\n",
              "      <th>mean</th>\n",
              "      <td>281.167864</td>\n",
              "      <td>73.895825</td>\n",
              "      <td>54.188350</td>\n",
              "      <td>181.567282</td>\n",
              "      <td>6.204660</td>\n",
              "      <td>972.918932</td>\n",
              "      <td>773.580485</td>\n",
              "      <td>45.662136</td>\n",
              "      <td>35.817961</td>\n",
              "    </tr>\n",
              "    <tr>\n",
              "      <th>std</th>\n",
              "      <td>104.506364</td>\n",
              "      <td>86.279342</td>\n",
              "      <td>63.997004</td>\n",
              "      <td>21.354219</td>\n",
              "      <td>5.973841</td>\n",
              "      <td>77.753954</td>\n",
              "      <td>80.175980</td>\n",
              "      <td>63.169912</td>\n",
              "      <td>16.705742</td>\n",
              "    </tr>\n",
              "    <tr>\n",
              "      <th>min</th>\n",
              "      <td>102.000000</td>\n",
              "      <td>0.000000</td>\n",
              "      <td>0.000000</td>\n",
              "      <td>121.800000</td>\n",
              "      <td>0.000000</td>\n",
              "      <td>801.000000</td>\n",
              "      <td>594.000000</td>\n",
              "      <td>1.000000</td>\n",
              "      <td>2.330000</td>\n",
              "    </tr>\n",
              "    <tr>\n",
              "      <th>25%</th>\n",
              "      <td>192.375000</td>\n",
              "      <td>0.000000</td>\n",
              "      <td>0.000000</td>\n",
              "      <td>164.900000</td>\n",
              "      <td>0.000000</td>\n",
              "      <td>932.000000</td>\n",
              "      <td>730.950000</td>\n",
              "      <td>7.000000</td>\n",
              "      <td>23.710000</td>\n",
              "    </tr>\n",
              "    <tr>\n",
              "      <th>50%</th>\n",
              "      <td>272.900000</td>\n",
              "      <td>22.000000</td>\n",
              "      <td>0.000000</td>\n",
              "      <td>185.000000</td>\n",
              "      <td>6.400000</td>\n",
              "      <td>968.000000</td>\n",
              "      <td>779.500000</td>\n",
              "      <td>28.000000</td>\n",
              "      <td>34.445000</td>\n",
              "    </tr>\n",
              "    <tr>\n",
              "      <th>75%</th>\n",
              "      <td>350.000000</td>\n",
              "      <td>142.950000</td>\n",
              "      <td>118.300000</td>\n",
              "      <td>192.000000</td>\n",
              "      <td>10.200000</td>\n",
              "      <td>1029.400000</td>\n",
              "      <td>824.000000</td>\n",
              "      <td>56.000000</td>\n",
              "      <td>46.135000</td>\n",
              "    </tr>\n",
              "    <tr>\n",
              "      <th>max</th>\n",
              "      <td>540.000000</td>\n",
              "      <td>359.400000</td>\n",
              "      <td>200.100000</td>\n",
              "      <td>247.000000</td>\n",
              "      <td>32.200000</td>\n",
              "      <td>1145.000000</td>\n",
              "      <td>992.600000</td>\n",
              "      <td>365.000000</td>\n",
              "      <td>82.600000</td>\n",
              "    </tr>\n",
              "  </tbody>\n",
              "</table>\n",
              "</div>"
            ],
            "text/plain": [
              "            cement  ...  concrete_compressive_strength\n",
              "count  1030.000000  ...                    1030.000000\n",
              "mean    281.167864  ...                      35.817961\n",
              "std     104.506364  ...                      16.705742\n",
              "min     102.000000  ...                       2.330000\n",
              "25%     192.375000  ...                      23.710000\n",
              "50%     272.900000  ...                      34.445000\n",
              "75%     350.000000  ...                      46.135000\n",
              "max     540.000000  ...                      82.600000\n",
              "\n",
              "[8 rows x 9 columns]"
            ]
          },
          "metadata": {
            "tags": []
          },
          "execution_count": 13
        }
      ]
    },
    {
      "cell_type": "code",
      "metadata": {
        "id": "YsdrvV-RhATY"
      },
      "source": [
        "#Seeing Target,Nomial and numerical columns count"
      ],
      "execution_count": null,
      "outputs": []
    },
    {
      "cell_type": "code",
      "metadata": {
        "colab": {
          "base_uri": "https://localhost:8080/"
        },
        "id": "tFxeLF18hK86",
        "outputId": "c3d4b8b6-ade2-4409-ef06-9daf4480b306"
      },
      "source": [
        "np.unique(dataset.dtypes,return_counts=True)"
      ],
      "execution_count": null,
      "outputs": [
        {
          "output_type": "execute_result",
          "data": {
            "text/plain": [
              "(array([dtype('int64'), dtype('float64')], dtype=object), array([1, 8]))"
            ]
          },
          "metadata": {
            "tags": []
          },
          "execution_count": 14
        }
      ]
    },
    {
      "cell_type": "code",
      "metadata": {
        "colab": {
          "base_uri": "https://localhost:8080/"
        },
        "id": "wGjEDJKuhdmq",
        "outputId": "e426c831-05be-4960-c50a-edf1ddd78058"
      },
      "source": [
        "dataset.dtypes[dataset.dtypes!='0'].index.values"
      ],
      "execution_count": null,
      "outputs": [
        {
          "output_type": "execute_result",
          "data": {
            "text/plain": [
              "array(['cement', 'blast_furnace_slag', 'fly_ash', 'water',\n",
              "       'superplasticizer', 'coarse_aggregate', 'fine_aggregate ', 'age',\n",
              "       'concrete_compressive_strength'], dtype=object)"
            ]
          },
          "metadata": {
            "tags": []
          },
          "execution_count": 15
        }
      ]
    },
    {
      "cell_type": "markdown",
      "metadata": {
        "id": "jhTmbeX-QnmH"
      },
      "source": [
        "\n",
        "\n",
        "Checking the null values"
      ]
    },
    {
      "cell_type": "code",
      "metadata": {
        "colab": {
          "base_uri": "https://localhost:8080/"
        },
        "id": "SYsJ3ujcuUgn",
        "outputId": "338e8ec2-894d-4506-9604-4832e7682370"
      },
      "source": [
        "dataset.isnull().any()"
      ],
      "execution_count": null,
      "outputs": [
        {
          "output_type": "execute_result",
          "data": {
            "text/plain": [
              "cement                           False\n",
              "blast_furnace_slag               False\n",
              "fly_ash                          False\n",
              "water                            False\n",
              "superplasticizer                 False\n",
              "coarse_aggregate                 False\n",
              "fine_aggregate                   False\n",
              "age                              False\n",
              "concrete_compressive_strength    False\n",
              "dtype: bool"
            ]
          },
          "metadata": {
            "tags": []
          },
          "execution_count": 16
        }
      ]
    },
    {
      "cell_type": "code",
      "metadata": {
        "colab": {
          "base_uri": "https://localhost:8080/"
        },
        "id": "EM8J8RilPvOo",
        "outputId": "a4577a29-26dd-4c6d-87ab-4b0d3c16c970"
      },
      "source": [
        "dataset.isnull().sum()"
      ],
      "execution_count": null,
      "outputs": [
        {
          "output_type": "execute_result",
          "data": {
            "text/plain": [
              "cement                           0\n",
              "blast_furnace_slag               0\n",
              "fly_ash                          0\n",
              "water                            0\n",
              "superplasticizer                 0\n",
              "coarse_aggregate                 0\n",
              "fine_aggregate                   0\n",
              "age                              0\n",
              "concrete_compressive_strength    0\n",
              "dtype: int64"
            ]
          },
          "metadata": {
            "tags": []
          },
          "execution_count": 11
        }
      ]
    },
    {
      "cell_type": "code",
      "metadata": {
        "colab": {
          "base_uri": "https://localhost:8080/",
          "height": 435
        },
        "id": "5cZFq66sh_D4",
        "outputId": "e564810a-5842-4b01-9898-5bc6a1a5440a"
      },
      "source": [
        "sns.heatmap(dataset.isnull(),cbar=False)"
      ],
      "execution_count": null,
      "outputs": [
        {
          "output_type": "execute_result",
          "data": {
            "text/plain": [
              "<matplotlib.axes._subplots.AxesSubplot at 0x7fc7541971d0>"
            ]
          },
          "metadata": {
            "tags": []
          },
          "execution_count": 17
        },
        {
          "output_type": "display_data",
          "data": {
            "image/png": "[encoded data removed]",
            "text/plain": [
              "<Figure size 432x288 with 1 Axes>"
            ]
          },
          "metadata": {
            "tags": [],
            "needs_background": "light"
          }
        }
      ]
    },
    {
      "cell_type": "markdown",
      "metadata": {
        "id": "deQuyNH5iqAb"
      },
      "source": [
        "Finding missing valued"
      ]
    },
    {
      "cell_type": "code",
      "metadata": {
        "colab": {
          "base_uri": "https://localhost:8080/",
          "height": 641
        },
        "id": "4MQFZfqhiuDX",
        "outputId": "81bb593c-d554-40ae-ef5c-7323932479fd"
      },
      "source": [
        "import missingno as msno\n",
        "msno.bar(dataset) \n",
        "plt.show()"
      ],
      "execution_count": null,
      "outputs": [
        {
          "output_type": "display_data",
          "data": {
            "image/png": "[encoded data removed]",
            "text/plain": [
              "<Figure size 1800x720 with 3 Axes>"
            ]
          },
          "metadata": {
            "tags": [],
            "needs_background": "light"
          }
        }
      ]
    },
    {
      "cell_type": "markdown",
      "metadata": {
        "id": "2-_7sRpFjGz3"
      },
      "source": [
        "Data visualization"
      ]
    },
    {
      "cell_type": "markdown",
      "metadata": {
        "id": "6UDgwbsojJhI"
      },
      "source": [
        " Checking with Outlier"
      ]
    },
    {
      "cell_type": "code",
      "metadata": {
        "colab": {
          "base_uri": "https://localhost:8080/",
          "height": 341
        },
        "id": "pcpRWKp3jOee",
        "outputId": "72c9766a-f72d-4923-a13f-d1278855ef42"
      },
      "source": [
        "dataset.boxplot(figsize=(10,5))"
      ],
      "execution_count": null,
      "outputs": [
        {
          "output_type": "execute_result",
          "data": {
            "text/plain": [
              "<matplotlib.axes._subplots.AxesSubplot at 0x7fc74a014290>"
            ]
          },
          "metadata": {
            "tags": []
          },
          "execution_count": 20
        },
        {
          "output_type": "display_data",
          "data": {
            "image/png": "[encoded data removed]",
            "text/plain": [
              "<Figure size 720x360 with 1 Axes>"
            ]
          },
          "metadata": {
            "tags": [],
            "needs_background": "light"
          }
        }
      ]
    },
    {
      "cell_type": "code",
      "metadata": {
        "colab": {
          "base_uri": "https://localhost:8080/"
        },
        "id": "2VZ43UGckYm6",
        "outputId": "8d75af93-8779-43a4-fa99-ba9b70275c06"
      },
      "source": [
        "def outliers():\n",
        "  for i in dataset.columns:\n",
        "       print(\"\\033[1m\"+ i +\"\\033[0m\") \n",
        "       Q1=dataset[i].quantile(q=0.25) \n",
        "       Q3=dataset[i].quantile(q=0.75)\n",
        "       print('1st Quartile(Q1) is:',Q1) \n",
        "       print('3st Quartile(Q1) is:',Q3)\n",
        "       IQR=Q3-Q1  # finding inter quartile range\n",
        "       print(IQR) \n",
        "       UL=Q3+(1.5*IQR) #finding upper level point\n",
        " \n",
        "       print(\"upper limit:\", UL) \n",
        "       LL=Q1-(1.5*IQR) \n",
        "       print(\"lower limit:\", LL)\n",
        "       print(\"Outlier present above UL\",dataset[i][dataset[i]>UL].count()) \n",
        "       print(\"Outlier present above LL\",dataset[i][dataset[i]>LL].count())\n",
        "       print('------'*40) \n",
        "outliers()"
      ],
      "execution_count": null,
      "outputs": [
        {
          "output_type": "stream",
          "text": [
            "\u001b[1mcement\u001b[0m\n",
            "1st Quartile(Q1) is: 192.375\n",
            "3st Quartile(Q1) is: 350.0\n",
            "157.625\n",
            "upper limit: 586.4375\n",
            "lower limit: -44.0625\n",
            "Outlier present above UL 0\n",
            "Outlier present above LL 1030\n",
            "------------------------------------------------------------------------------------------------------------------------------------------------------------------------------------------------------------------------------------------------\n",
            "\u001b[1mblast_furnace_slag\u001b[0m\n",
            "1st Quartile(Q1) is: 0.0\n",
            "3st Quartile(Q1) is: 142.95\n",
            "142.95\n",
            "upper limit: 357.375\n",
            "lower limit: -214.42499999999998\n",
            "Outlier present above UL 2\n",
            "Outlier present above LL 1030\n",
            "------------------------------------------------------------------------------------------------------------------------------------------------------------------------------------------------------------------------------------------------\n",
            "\u001b[1mfly_ash\u001b[0m\n",
            "1st Quartile(Q1) is: 0.0\n",
            "3st Quartile(Q1) is: 118.3\n",
            "118.3\n",
            "upper limit: 295.75\n",
            "lower limit: -177.45\n",
            "Outlier present above UL 0\n",
            "Outlier present above LL 1030\n",
            "------------------------------------------------------------------------------------------------------------------------------------------------------------------------------------------------------------------------------------------------\n",
            "\u001b[1mwater\u001b[0m\n",
            "1st Quartile(Q1) is: 164.9\n",
            "3st Quartile(Q1) is: 192.0\n",
            "27.099999999999994\n",
            "upper limit: 232.64999999999998\n",
            "lower limit: 124.25000000000001\n",
            "Outlier present above UL 4\n",
            "Outlier present above LL 1025\n",
            "------------------------------------------------------------------------------------------------------------------------------------------------------------------------------------------------------------------------------------------------\n",
            "\u001b[1msuperplasticizer\u001b[0m\n",
            "1st Quartile(Q1) is: 0.0\n",
            "3st Quartile(Q1) is: 10.2\n",
            "10.2\n",
            "upper limit: 25.5\n",
            "lower limit: -15.299999999999999\n",
            "Outlier present above UL 10\n",
            "Outlier present above LL 1030\n",
            "------------------------------------------------------------------------------------------------------------------------------------------------------------------------------------------------------------------------------------------------\n",
            "\u001b[1mcoarse_aggregate\u001b[0m\n",
            "1st Quartile(Q1) is: 932.0\n",
            "3st Quartile(Q1) is: 1029.4\n",
            "97.40000000000009\n",
            "upper limit: 1175.5000000000002\n",
            "lower limit: 785.8999999999999\n",
            "Outlier present above UL 0\n",
            "Outlier present above LL 1030\n",
            "------------------------------------------------------------------------------------------------------------------------------------------------------------------------------------------------------------------------------------------------\n",
            "\u001b[1mfine_aggregate \u001b[0m\n",
            "1st Quartile(Q1) is: 730.9499999999999\n",
            "3st Quartile(Q1) is: 824.0\n",
            "93.05000000000007\n",
            "upper limit: 963.575\n",
            "lower limit: 591.3749999999998\n",
            "Outlier present above UL 5\n",
            "Outlier present above LL 1030\n",
            "------------------------------------------------------------------------------------------------------------------------------------------------------------------------------------------------------------------------------------------------\n",
            "\u001b[1mage\u001b[0m\n",
            "1st Quartile(Q1) is: 7.0\n",
            "3st Quartile(Q1) is: 56.0\n",
            "49.0\n",
            "upper limit: 129.5\n",
            "lower limit: -66.5\n",
            "Outlier present above UL 59\n",
            "Outlier present above LL 1030\n",
            "------------------------------------------------------------------------------------------------------------------------------------------------------------------------------------------------------------------------------------------------\n",
            "\u001b[1mconcrete_compressive_strength\u001b[0m\n",
            "1st Quartile(Q1) is: 23.709999999999997\n",
            "3st Quartile(Q1) is: 46.135000000000005\n",
            "22.425000000000008\n",
            "upper limit: 79.77250000000001\n",
            "lower limit: -9.927500000000013\n",
            "Outlier present above UL 4\n",
            "Outlier present above LL 1030\n",
            "------------------------------------------------------------------------------------------------------------------------------------------------------------------------------------------------------------------------------------------------\n"
          ],
          "name": "stdout"
        }
      ]
    },
    {
      "cell_type": "code",
      "metadata": {
        "colab": {
          "base_uri": "https://localhost:8080/",
          "height": 1000
        },
        "id": "GllY6ayHuNQH",
        "outputId": "f10e735e-6008-4a2f-fbb6-79cdfd0201c5"
      },
      "source": [
        "plt.figure(figsize=(20,20),facecolor='White') \n",
        "plotnumber = 1\n",
        " \n",
        "for column in dataset.columns:\n",
        "    ax=plt.subplot(3,3,plotnumber) \n",
        "    sns.boxplot((dataset[column])) \n",
        "    plt.xlabel(column,fontsize=5) \n",
        "    plotnumber+=1\n",
        "plt.show()"
      ],
      "execution_count": null,
      "outputs": [
        {
          "output_type": "stream",
          "text": [
            "/usr/local/lib/python3.7/dist-packages/seaborn/_decorators.py:43: FutureWarning: Pass the following variable as a keyword arg: x. From version 0.12, the only valid positional argument will be `data`, and passing other arguments without an explicit keyword will result in an error or misinterpretation.\n",
            "  FutureWarning\n",
            "/usr/local/lib/python3.7/dist-packages/seaborn/_decorators.py:43: FutureWarning: Pass the following variable as a keyword arg: x. From version 0.12, the only valid positional argument will be `data`, and passing other arguments without an explicit keyword will result in an error or misinterpretation.\n",
            "  FutureWarning\n",
            "/usr/local/lib/python3.7/dist-packages/seaborn/_decorators.py:43: FutureWarning: Pass the following variable as a keyword arg: x. From version 0.12, the only valid positional argument will be `data`, and passing other arguments without an explicit keyword will result in an error or misinterpretation.\n",
            "  FutureWarning\n",
            "/usr/local/lib/python3.7/dist-packages/seaborn/_decorators.py:43: FutureWarning: Pass the following variable as a keyword arg: x. From version 0.12, the only valid positional argument will be `data`, and passing other arguments without an explicit keyword will result in an error or misinterpretation.\n",
            "  FutureWarning\n",
            "/usr/local/lib/python3.7/dist-packages/seaborn/_decorators.py:43: FutureWarning: Pass the following variable as a keyword arg: x. From version 0.12, the only valid positional argument will be `data`, and passing other arguments without an explicit keyword will result in an error or misinterpretation.\n",
            "  FutureWarning\n",
            "/usr/local/lib/python3.7/dist-packages/seaborn/_decorators.py:43: FutureWarning: Pass the following variable as a keyword arg: x. From version 0.12, the only valid positional argument will be `data`, and passing other arguments without an explicit keyword will result in an error or misinterpretation.\n",
            "  FutureWarning\n",
            "/usr/local/lib/python3.7/dist-packages/seaborn/_decorators.py:43: FutureWarning: Pass the following variable as a keyword arg: x. From version 0.12, the only valid positional argument will be `data`, and passing other arguments without an explicit keyword will result in an error or misinterpretation.\n",
            "  FutureWarning\n",
            "/usr/local/lib/python3.7/dist-packages/seaborn/_decorators.py:43: FutureWarning: Pass the following variable as a keyword arg: x. From version 0.12, the only valid positional argument will be `data`, and passing other arguments without an explicit keyword will result in an error or misinterpretation.\n",
            "  FutureWarning\n",
            "/usr/local/lib/python3.7/dist-packages/seaborn/_decorators.py:43: FutureWarning: Pass the following variable as a keyword arg: x. From version 0.12, the only valid positional argument will be `data`, and passing other arguments without an explicit keyword will result in an error or misinterpretation.\n",
            "  FutureWarning\n"
          ],
          "name": "stderr"
        },
        {
          "output_type": "display_data",
          "data": {
            "image/png": "[encoded data removed]",
            "text/plain": [
              "<Figure size 1440x1440 with 9 Axes>"
            ]
          },
          "metadata": {
            "tags": []
          }
        }
      ]
    },
    {
      "cell_type": "markdown",
      "metadata": {
        "id": "63Y_93tmw2C8"
      },
      "source": [
        "Scatter plot with target column"
      ]
    },
    {
      "cell_type": "code",
      "metadata": {
        "id": "KGcb5uB_2N5k"
      },
      "source": [
        "from collections import defaultdict"
      ],
      "execution_count": null,
      "outputs": []
    },
    {
      "cell_type": "code",
      "metadata": {
        "colab": {
          "base_uri": "https://localhost:8080/",
          "height": 1000
        },
        "id": "EfA7UAlZvbuJ",
        "outputId": "0b956183-0e00-48ca-d378-6e0e28ea9d4b"
      },
      "source": [
        "y1=dataset['Concrete compressive strength']\n",
        "plt.figure(figsize=(20,20),facecolor='White') \n",
        "plotnumber = 1\n",
        " \n",
        "for column in dataset.columns[:8]:\n",
        "    ax=plt.subplot(3,3,plotnumber) \n",
        "    sns.scatterplot(dataset[column],y1)\n",
        "    plt.xlabel(column,fontsize=10) \n",
        "    plotnumber+=1\n",
        "plt.show()"
      ],
      "execution_count": null,
      "outputs": [
        {
          "output_type": "error",
          "ename": "KeyError",
          "evalue": "ignored",
          "traceback": [
            "\u001b[0;31m---------------------------------------------------------------------------\u001b[0m",
            "\u001b[0;31mKeyError\u001b[0m                                  Traceback (most recent call last)",
            "\u001b[0;32m/usr/local/lib/python3.7/dist-packages/pandas/core/indexes/base.py\u001b[0m in \u001b[0;36mget_loc\u001b[0;34m(self, key, method, tolerance)\u001b[0m\n\u001b[1;32m   2897\u001b[0m             \u001b[0;32mtry\u001b[0m\u001b[0;34m:\u001b[0m\u001b[0;34m\u001b[0m\u001b[0;34m\u001b[0m\u001b[0m\n\u001b[0;32m-> 2898\u001b[0;31m                 \u001b[0;32mreturn\u001b[0m \u001b[0mself\u001b[0m\u001b[0;34m.\u001b[0m\u001b[0m_engine\u001b[0m\u001b[0;34m.\u001b[0m\u001b[0mget_loc\u001b[0m\u001b[0;34m(\u001b[0m\u001b[0mcasted_key\u001b[0m\u001b[0;34m)\u001b[0m\u001b[0;34m\u001b[0m\u001b[0;34m\u001b[0m\u001b[0m\n\u001b[0m\u001b[1;32m   2899\u001b[0m             \u001b[0;32mexcept\u001b[0m \u001b[0mKeyError\u001b[0m \u001b[0;32mas\u001b[0m \u001b[0merr\u001b[0m\u001b[0;34m:\u001b[0m\u001b[0;34m\u001b[0m\u001b[0;34m\u001b[0m\u001b[0m\n",
            "\u001b[0;32mpandas/_libs/index.pyx\u001b[0m in \u001b[0;36mpandas._libs.index.IndexEngine.get_loc\u001b[0;34m()\u001b[0m\n",
            "\u001b[0;32mpandas/_libs/index.pyx\u001b[0m in \u001b[0;36mpandas._libs.index.IndexEngine.get_loc\u001b[0;34m()\u001b[0m\n",
            "\u001b[0;32mpandas/_libs/hashtable_class_helper.pxi\u001b[0m in \u001b[0;36mpandas._libs.hashtable.PyObjectHashTable.get_item\u001b[0;34m()\u001b[0m\n",
            "\u001b[0;32mpandas/_libs/hashtable_class_helper.pxi\u001b[0m in \u001b[0;36mpandas._libs.hashtable.PyObjectHashTable.get_item\u001b[0;34m()\u001b[0m\n",
            "\u001b[0;31mKeyError\u001b[0m: 'Concrete compressive strength'",
            "\nThe above exception was the direct cause of the following exception:\n",
            "\u001b[0;31mKeyError\u001b[0m                                  Traceback (most recent call last)",
            "\u001b[0;32m<ipython-input-19-8493df242fc5>\u001b[0m in \u001b[0;36m<module>\u001b[0;34m()\u001b[0m\n\u001b[0;32m----> 1\u001b[0;31m \u001b[0my1\u001b[0m\u001b[0;34m=\u001b[0m\u001b[0mdataset\u001b[0m\u001b[0;34m[\u001b[0m\u001b[0;34m'Concrete compressive strength'\u001b[0m\u001b[0;34m]\u001b[0m\u001b[0;34m\u001b[0m\u001b[0;34m\u001b[0m\u001b[0m\n\u001b[0m\u001b[1;32m      2\u001b[0m \u001b[0mplt\u001b[0m\u001b[0;34m.\u001b[0m\u001b[0mfigure\u001b[0m\u001b[0;34m(\u001b[0m\u001b[0mfigsize\u001b[0m\u001b[0;34m=\u001b[0m\u001b[0;34m(\u001b[0m\u001b[0;36m20\u001b[0m\u001b[0;34m,\u001b[0m\u001b[0;36m20\u001b[0m\u001b[0;34m)\u001b[0m\u001b[0;34m,\u001b[0m\u001b[0mfacecolor\u001b[0m\u001b[0;34m=\u001b[0m\u001b[0;34m'White'\u001b[0m\u001b[0;34m)\u001b[0m\u001b[0;34m\u001b[0m\u001b[0;34m\u001b[0m\u001b[0m\n\u001b[1;32m      3\u001b[0m \u001b[0mplotnumber\u001b[0m \u001b[0;34m=\u001b[0m \u001b[0;36m1\u001b[0m\u001b[0;34m\u001b[0m\u001b[0;34m\u001b[0m\u001b[0m\n\u001b[1;32m      4\u001b[0m \u001b[0;34m\u001b[0m\u001b[0m\n\u001b[1;32m      5\u001b[0m \u001b[0;32mfor\u001b[0m \u001b[0mcolumn\u001b[0m \u001b[0;32min\u001b[0m \u001b[0mdataset\u001b[0m\u001b[0;34m.\u001b[0m\u001b[0mcolumns\u001b[0m\u001b[0;34m[\u001b[0m\u001b[0;34m:\u001b[0m\u001b[0;36m8\u001b[0m\u001b[0;34m]\u001b[0m\u001b[0;34m:\u001b[0m\u001b[0;34m\u001b[0m\u001b[0;34m\u001b[0m\u001b[0m\n",
            "\u001b[0;32m/usr/local/lib/python3.7/dist-packages/pandas/core/frame.py\u001b[0m in \u001b[0;36m__getitem__\u001b[0;34m(self, key)\u001b[0m\n\u001b[1;32m   2904\u001b[0m             \u001b[0;32mif\u001b[0m \u001b[0mself\u001b[0m\u001b[0;34m.\u001b[0m\u001b[0mcolumns\u001b[0m\u001b[0;34m.\u001b[0m\u001b[0mnlevels\u001b[0m \u001b[0;34m>\u001b[0m \u001b[0;36m1\u001b[0m\u001b[0;34m:\u001b[0m\u001b[0;34m\u001b[0m\u001b[0;34m\u001b[0m\u001b[0m\n\u001b[1;32m   2905\u001b[0m                 \u001b[0;32mreturn\u001b[0m \u001b[0mself\u001b[0m\u001b[0;34m.\u001b[0m\u001b[0m_getitem_multilevel\u001b[0m\u001b[0;34m(\u001b[0m\u001b[0mkey\u001b[0m\u001b[0;34m)\u001b[0m\u001b[0;34m\u001b[0m\u001b[0;34m\u001b[0m\u001b[0m\n\u001b[0;32m-> 2906\u001b[0;31m             \u001b[0mindexer\u001b[0m \u001b[0;34m=\u001b[0m \u001b[0mself\u001b[0m\u001b[0;34m.\u001b[0m\u001b[0mcolumns\u001b[0m\u001b[0;34m.\u001b[0m\u001b[0mget_loc\u001b[0m\u001b[0;34m(\u001b[0m\u001b[0mkey\u001b[0m\u001b[0;34m)\u001b[0m\u001b[0;34m\u001b[0m\u001b[0;34m\u001b[0m\u001b[0m\n\u001b[0m\u001b[1;32m   2907\u001b[0m             \u001b[0;32mif\u001b[0m \u001b[0mis_integer\u001b[0m\u001b[0;34m(\u001b[0m\u001b[0mindexer\u001b[0m\u001b[0;34m)\u001b[0m\u001b[0;34m:\u001b[0m\u001b[0;34m\u001b[0m\u001b[0;34m\u001b[0m\u001b[0m\n\u001b[1;32m   2908\u001b[0m                 \u001b[0mindexer\u001b[0m \u001b[0;34m=\u001b[0m \u001b[0;34m[\u001b[0m\u001b[0mindexer\u001b[0m\u001b[0;34m]\u001b[0m\u001b[0;34m\u001b[0m\u001b[0;34m\u001b[0m\u001b[0m\n",
            "\u001b[0;32m/usr/local/lib/python3.7/dist-packages/pandas/core/indexes/base.py\u001b[0m in \u001b[0;36mget_loc\u001b[0;34m(self, key, method, tolerance)\u001b[0m\n\u001b[1;32m   2898\u001b[0m                 \u001b[0;32mreturn\u001b[0m \u001b[0mself\u001b[0m\u001b[0;34m.\u001b[0m\u001b[0m_engine\u001b[0m\u001b[0;34m.\u001b[0m\u001b[0mget_loc\u001b[0m\u001b[0;34m(\u001b[0m\u001b[0mcasted_key\u001b[0m\u001b[0;34m)\u001b[0m\u001b[0;34m\u001b[0m\u001b[0;34m\u001b[0m\u001b[0m\n\u001b[1;32m   2899\u001b[0m             \u001b[0;32mexcept\u001b[0m \u001b[0mKeyError\u001b[0m \u001b[0;32mas\u001b[0m \u001b[0merr\u001b[0m\u001b[0;34m:\u001b[0m\u001b[0;34m\u001b[0m\u001b[0;34m\u001b[0m\u001b[0m\n\u001b[0;32m-> 2900\u001b[0;31m                 \u001b[0;32mraise\u001b[0m \u001b[0mKeyError\u001b[0m\u001b[0;34m(\u001b[0m\u001b[0mkey\u001b[0m\u001b[0;34m)\u001b[0m \u001b[0;32mfrom\u001b[0m \u001b[0merr\u001b[0m\u001b[0;34m\u001b[0m\u001b[0;34m\u001b[0m\u001b[0m\n\u001b[0m\u001b[1;32m   2901\u001b[0m \u001b[0;34m\u001b[0m\u001b[0m\n\u001b[1;32m   2902\u001b[0m         \u001b[0;32mif\u001b[0m \u001b[0mtolerance\u001b[0m \u001b[0;32mis\u001b[0m \u001b[0;32mnot\u001b[0m \u001b[0;32mNone\u001b[0m\u001b[0;34m:\u001b[0m\u001b[0;34m\u001b[0m\u001b[0;34m\u001b[0m\u001b[0m\n",
            "\u001b[0;31mKeyError\u001b[0m: 'Concrete compressive strength'"
          ]
        }
      ]
    },
    {
      "cell_type": "markdown",
      "metadata": {
        "id": "e40SBUmw1afJ"
      },
      "source": [
        " Correlation between the independent columns"
      ]
    },
    {
      "cell_type": "code",
      "metadata": {
        "colab": {
          "base_uri": "https://localhost:8080/",
          "height": 653
        },
        "id": "cTUDy8W_0nNK",
        "outputId": "f6268b41-e445-42c6-80fd-eaff4c7cde8b"
      },
      "source": [
        "plt.figure(figsize=(8,8)) \n",
        "sns.heatmap(dataset[:8].corr().abs(),vmin=-0.5,vmax=1,annot=True)"
      ],
      "execution_count": null,
      "outputs": [
        {
          "output_type": "execute_result",
          "data": {
            "text/plain": [
              "<matplotlib.axes._subplots.AxesSubplot at 0x7fc749fe4bd0>"
            ]
          },
          "metadata": {
            "tags": []
          },
          "execution_count": 22
        },
        {
          "output_type": "display_data",
          "data": {
            "image/png": "[encoded data removed]",
            "text/plain": [
              "<Figure size 576x576 with 2 Axes>"
            ]
          },
          "metadata": {
            "tags": [],
            "needs_background": "light"
          }
        }
      ]
    },
    {
      "cell_type": "markdown",
      "metadata": {
        "id": "Lput6n151uGV"
      },
      "source": [
        "Creating the independent and dependent columns"
      ]
    },
    {
      "cell_type": "code",
      "metadata": {
        "id": "QfHCHZrK1ZkO"
      },
      "source": [
        "x=dataset.iloc[ :,0:1].values\n",
        "y=dataset.iloc[:,2].values"
      ],
      "execution_count": null,
      "outputs": []
    },
    {
      "cell_type": "code",
      "metadata": {
        "colab": {
          "base_uri": "https://localhost:8080/"
        },
        "id": "f75FRKd9po_S",
        "outputId": "19930871-edcc-4cda-c421-cad310e137b4"
      },
      "source": [
        "x"
      ],
      "execution_count": null,
      "outputs": [
        {
          "output_type": "execute_result",
          "data": {
            "text/plain": [
              "array([[540. ],\n",
              "       [540. ],\n",
              "       [332.5],\n",
              "       ...,\n",
              "       [148.5],\n",
              "       [159.1],\n",
              "       [260.9]])"
            ]
          },
          "metadata": {
            "tags": []
          },
          "execution_count": 24
        }
      ]
    },
    {
      "cell_type": "code",
      "metadata": {
        "colab": {
          "base_uri": "https://localhost:8080/"
        },
        "id": "mkM1NwOspqfz",
        "outputId": "ae016d97-04ce-42bb-ba4a-6c9c34cd137f"
      },
      "source": [
        "y"
      ],
      "execution_count": null,
      "outputs": [
        {
          "output_type": "execute_result",
          "data": {
            "text/plain": [
              "array([  0. ,   0. ,   0. , ..., 108.6,   0. ,  78.3])"
            ]
          },
          "metadata": {
            "tags": []
          },
          "execution_count": 25
        }
      ]
    },
    {
      "cell_type": "code",
      "metadata": {
        "colab": {
          "base_uri": "https://localhost:8080/"
        },
        "id": "YIadTmrkqAh-",
        "outputId": "b9f8dc8f-99dd-4630-eb2d-8da5904f24b9"
      },
      "source": [
        "x.shape"
      ],
      "execution_count": null,
      "outputs": [
        {
          "output_type": "execute_result",
          "data": {
            "text/plain": [
              "(1030, 1)"
            ]
          },
          "metadata": {
            "tags": []
          },
          "execution_count": 27
        }
      ]
    },
    {
      "cell_type": "markdown",
      "metadata": {
        "id": "rAfGxRJOs4ot"
      },
      "source": [
        "Linear regression"
      ]
    },
    {
      "cell_type": "markdown",
      "metadata": {
        "id": "K4xI2A973XCO"
      },
      "source": [
        " Splitting the data into train and split"
      ]
    },
    {
      "cell_type": "code",
      "metadata": {
        "id": "ZfZ15RT_3taM"
      },
      "source": [
        "x_train,x_test,y_train,y_test=train_test_split(x,y,test_size=0.2,random_state=1)\n",
        "print(x_train.shape) \n",
        "print(y_train.shape)"
      ],
      "execution_count": null,
      "outputs": []
    },
    {
      "cell_type": "code",
      "metadata": {
        "id": "ePLtDH0KpyXI"
      },
      "source": [
        "from sklearn.model_selection import train_test_split\n",
        "x_train,x_test, y_train,y_test=train_test_split(x,y,test_size=0.2,random_state=0)"
      ],
      "execution_count": null,
      "outputs": []
    },
    {
      "cell_type": "code",
      "metadata": {
        "colab": {
          "base_uri": "https://localhost:8080/"
        },
        "id": "GtEIbYE3rAK5",
        "outputId": "2162631c-babd-4fa1-d846-942923295a30"
      },
      "source": [
        "from sklearn.linear_model import LinearRegression\n",
        "lr=LinearRegression() \n",
        "lr.fit(x_train, y_train)"
      ],
      "execution_count": null,
      "outputs": [
        {
          "output_type": "execute_result",
          "data": {
            "text/plain": [
              "LinearRegression(copy_X=True, fit_intercept=True, n_jobs=None, normalize=False)"
            ]
          },
          "metadata": {
            "tags": []
          },
          "execution_count": 33
        }
      ]
    },
    {
      "cell_type": "code",
      "metadata": {
        "colab": {
          "base_uri": "https://localhost:8080/"
        },
        "id": "4sN8SVdzrbFV",
        "outputId": "cd9a4fec-b12c-491f-a503-5ab743c24c25"
      },
      "source": [
        "ypred=lr.predict(x_test) \n",
        "ypred"
      ],
      "execution_count": null,
      "outputs": [
        {
          "output_type": "execute_result",
          "data": {
            "text/plain": [
              "array([ -0.33741267,  93.53703449,  33.83945283,  -5.80969098,\n",
              "        84.98038112,  29.63574813,  35.48113633,  76.69734167,\n",
              "       -10.28700961,  38.96349526,  64.83244731,  82.02037603,\n",
              "        61.84756823,  75.90137391,  -7.30213053,  13.09454321,\n",
              "        61.39983637,  46.92317281, -10.28700961,  50.48015372,\n",
              "        27.7701987 ,  60.85260854,  82.49298189, -10.28700961,\n",
              "        43.19207396,  49.41057205,   7.37352497,  76.5978457 ,\n",
              "        13.09454321,  55.08184231,  61.84756823,  26.27775916,\n",
              "        78.28927718,  48.41561236,  39.70971503,  81.00054235,\n",
              "        29.63574813,  71.17531536,  82.54272987,  75.602886  ,\n",
              "         5.88108542,  39.70971503,  56.12654999,  80.80155041,\n",
              "         5.88108542,  18.3180816 ,  24.53657969,  -6.55591075,\n",
              "        17.69623179,  57.86772945,  53.39041083,  48.9130922 ,\n",
              "        85.72660089,  61.84756823,  80.80155041,  -1.58111228,\n",
              "        70.57833955,  13.09454321,  18.3180816 ,  53.39041083,\n",
              "        29.01389832,  65.87715499,  34.73491656,  30.75507778,\n",
              "        74.6328003 ,  53.1416709 ,  58.88756314,  86.97030051,\n",
              "        88.01500819,  50.40553174,  82.02037603,  76.69734167,\n",
              "        18.3180816 ,  52.14671121,  56.17629797,  13.09454321,\n",
              "        70.87682746,  71.29968533,  36.97357587,  64.80757332,\n",
              "        50.15679182,  55.1067163 ,  70.57833955,  82.99046173,\n",
              "        50.48015372,  46.17695304,  27.7701987 ,  27.7701987 ,\n",
              "        35.50601032,  76.5978457 ,  18.56682153,  46.92317281,\n",
              "        76.69734167,  61.39983637,  86.47282066,  41.32652453,\n",
              "        80.80155041,  58.24083934,  27.7701987 ,  36.97357587,\n",
              "        79.75684273,  69.7574978 ,  65.87715499,  88.46274005,\n",
              "        71.29968533,  52.39545113,  50.10704384,  70.92657544,\n",
              "        36.97357587,  49.95779988,  88.88559792,  -4.31725144,\n",
              "        61.79782024,  82.39348592,  46.10233107,  -6.55591075,\n",
              "        29.01389832,  82.74172181,  36.97357587,  82.39348592,\n",
              "        -0.33741267,  87.26878842,  18.3180816 ,  61.84756823,\n",
              "        85.47786097,  77.71717535,  61.35008838,  90.95013929,\n",
              "        55.08184231,  41.69963442,  71.15044137,  38.96349526,\n",
              "        50.48015372,  50.40553174,  81.67214014,  27.7701987 ,\n",
              "        39.70971503,  52.39545113,  98.66107692,  88.88559792,\n",
              "        43.93829373,  48.41561236,  51.79847532,  65.10606123,\n",
              "        68.06606632,  55.13159029,  27.7701987 ,  37.2223158 ,\n",
              "        40.4559348 ,  64.83244731,  61.49933234,  88.3134961 ,\n",
              "        70.87682746,  57.86772945,  41.20215457,  49.88317791,\n",
              "        27.37221482,  25.28279946,  65.82740701,  46.92317281,\n",
              "        62.64353598,  71.62304723,  87.19416644,  43.19207396,\n",
              "        85.32861702,  89.30845579,  76.77196364,  13.09454321,\n",
              "        48.41561236,  65.32992716,  48.41561236,  61.84756823,\n",
              "        41.69963442,  47.66939259,  82.99046173,  66.89698868,\n",
              "        84.7316412 ,  18.56682153,  39.70971503,  70.92657544,\n",
              "        76.2744838 ,  88.46274005,  50.40553174,  81.1497863 ,\n",
              "        53.39041083,  15.58194244,  39.70971503,  55.28083425,\n",
              "        71.29968533,  34.73491656,  43.93829373,   7.37352497,\n",
              "        42.94333404,  47.66939259,  95.17871799,  71.29968533,\n",
              "        61.35008838,  49.46032004,  61.49933234,   5.88108542,\n",
              "        48.9130922 ,  47.66939259,  83.7366815 ,  80.87617238,\n",
              "        58.86268915,  61.84756823])"
            ]
          },
          "metadata": {
            "tags": []
          },
          "execution_count": 34
        }
      ]
    },
    {
      "cell_type": "code",
      "metadata": {
        "colab": {
          "base_uri": "https://localhost:8080/"
        },
        "id": "HtNBV8QBrtEQ",
        "outputId": "2c2a1c87-24bd-413e-b21d-16cf24b91111"
      },
      "source": [
        "y_test"
      ],
      "execution_count": null,
      "outputs": [
        {
          "output_type": "execute_result",
          "data": {
            "text/plain": [
              "array([  0. ,   0. ,   0. ,   0. ,   0. ,   0. ,   0. , 125.2,   0. ,\n",
              "         0. ,   0. , 124.3,  95.7,   0. ,   0. ,  79. ,  99.9,   0. ,\n",
              "         0. ,  95.6,  94. ,   0. , 167. ,   0. ,   0. ,   0. ,   0. ,\n",
              "       125.4,  79. ,  24.5,   0. ,   0. ,   0. ,   0. ,   0. ,   0. ,\n",
              "         0. , 100.4,   0. , 100.5,   0. ,   0. ,  90. , 159.9,  59. ,\n",
              "         0. ,   0. ,   0. ,   0. ,   0. ,   0. ,   0. , 112. ,  95.7,\n",
              "       159.9,  60. , 121.9,  79. ,   0. , 141. ,   0. ,  94.6, 141. ,\n",
              "         0. ,   0. ,   0. ,  86.1, 194. , 133.6,   0. , 124.3, 125.2,\n",
              "         0. ,   0. ,   0. ,  79. ,  24.5,   0. ,   0. ,  94.1,   0. ,\n",
              "        97.4, 121.9, 132.1,  95.6, 113. ,  94. ,  94. , 141.6, 125.4,\n",
              "       132. ,   0. , 125.2,  99.9, 184. ,   0. , 159.9,  86.5,  94. ,\n",
              "         0. , 118.6, 123.8,  94.6, 142.7, 124.8,   0. , 117.5, 174.2,\n",
              "         0. , 106.9,   0. ,   0. ,   0. , 128.6,   0. ,   0. ,   0. ,\n",
              "         0. ,   0. , 128.6,   0. ,   0. ,   0. ,  95.7, 143. ,   0. ,\n",
              "         0. ,   0. ,  24.5,   0. , 100.4,   0. ,  95.6, 106.7,   0. ,\n",
              "        94. ,   0. ,   0. ,   0. ,   0. ,   0. ,   0. ,  96.2,  71.5,\n",
              "         0. ,   0. ,  94. ,   0. ,   0. ,   0. , 118.3, 174.9,  24.5,\n",
              "         0. ,   0. , 107. ,   0. ,   0. ,   0. ,   0. , 125.1,   0. ,\n",
              "       182.1,   0. ,   0. ,   0. ,   0. ,  79. ,   0. ,   0. ,   0. ,\n",
              "        95.7,   0. ,   0. , 143.6, 118.2, 195. , 132. ,   0. , 174.2,\n",
              "         0. , 143. ,   0. , 172.4, 141. ,   0. ,   0. ,  90.3, 124.8,\n",
              "       141. ,   0. ,   0. ,   0. ,   0. ,   0. ,   0. ,  76. , 119.8,\n",
              "       118.3,   0. ,   0. ,   0. , 148.1, 173.5,  86. ,  95.7])"
            ]
          },
          "metadata": {
            "tags": []
          },
          "execution_count": 31
        }
      ]
    },
    {
      "cell_type": "code",
      "metadata": {
        "colab": {
          "base_uri": "https://localhost:8080/",
          "height": 283
        },
        "id": "IDzRO8cVryKs",
        "outputId": "69d75a14-3475-4c30-8c76-63bb8edf2ec1"
      },
      "source": [
        "plt.scatter(x_train,y_train) \n",
        "plt.plot(x_train,lr.predict(x_train),color=\"red\")"
      ],
      "execution_count": null,
      "outputs": [
        {
          "output_type": "execute_result",
          "data": {
            "text/plain": [
              "[<matplotlib.lines.Line2D at 0x7fc749e5f450>]"
            ]
          },
          "metadata": {
            "tags": []
          },
          "execution_count": 35
        },
        {
          "output_type": "display_data",
          "data": {
            "image/png": "[encoded data removed]",
            "text/plain": [
              "<Figure size 432x288 with 1 Axes>"
            ]
          },
          "metadata": {
            "tags": [],
            "needs_background": "light"
          }
        }
      ]
    },
    {
      "cell_type": "markdown",
      "metadata": {
        "id": "hi1kRj_MsTVe"
      },
      "source": [
        "Accuracy"
      ]
    },
    {
      "cell_type": "code",
      "metadata": {
        "id": "QdkWBuIVsSZ8"
      },
      "source": [
        "from sklearn.metrics import r2_score\n",
        "accuracy=r2_score(ypred, y_test)"
      ],
      "execution_count": null,
      "outputs": []
    },
    {
      "cell_type": "code",
      "metadata": {
        "colab": {
          "base_uri": "https://localhost:8080/"
        },
        "id": "wG4ZkOFOsiy2",
        "outputId": "97515e7b-6555-4304-bc54-78491c1cde59"
      },
      "source": [
        "accuracy"
      ],
      "execution_count": null,
      "outputs": [
        {
          "output_type": "execute_result",
          "data": {
            "text/plain": [
              "-3.9847626975265715"
            ]
          },
          "metadata": {
            "tags": []
          },
          "execution_count": 198
        }
      ]
    },
    {
      "cell_type": "markdown",
      "metadata": {
        "id": "wr2qXnAmsnvu"
      },
      "source": [
        "Predict individual values"
      ]
    },
    {
      "cell_type": "code",
      "metadata": {
        "id": "JrfQxfvzsqjB"
      },
      "source": [
        "yp=lr.predict([[12]])"
      ],
      "execution_count": null,
      "outputs": []
    },
    {
      "cell_type": "code",
      "metadata": {
        "id": "Rp_EoiWtsyQj",
        "colab": {
          "base_uri": "https://localhost:8080/"
        },
        "outputId": "3fd7644e-2d7a-4c2f-85a2-cf729eab11d9"
      },
      "source": [
        "yp"
      ],
      "execution_count": null,
      "outputs": [
        {
          "output_type": "execute_result",
          "data": {
            "text/plain": [
              "array([121.04767004])"
            ]
          },
          "metadata": {
            "tags": []
          },
          "execution_count": 37
        }
      ]
    },
    {
      "cell_type": "markdown",
      "metadata": {
        "id": "581KYTkY5DiM"
      },
      "source": [
        "Gradient Boosting Regressor"
      ]
    },
    {
      "cell_type": "code",
      "metadata": {
        "colab": {
          "base_uri": "https://localhost:8080/"
        },
        "id": "s9qhecya5Vp8",
        "outputId": "67922a33-5428-4ead-97a3-3c3a333710f4"
      },
      "source": [
        "from sklearn.ensemble import GradientBoostingRegressor\n",
        "gbr=GradientBoostingRegressor() \n",
        "gbr.fit(x_train,y_train)\n",
        "GradientBoostingRegressor()"
      ],
      "execution_count": null,
      "outputs": [
        {
          "output_type": "execute_result",
          "data": {
            "text/plain": [
              "GradientBoostingRegressor(alpha=0.9, ccp_alpha=0.0, criterion='friedman_mse',\n",
              "                          init=None, learning_rate=0.1, loss='ls', max_depth=3,\n",
              "                          max_features=None, max_leaf_nodes=None,\n",
              "                          min_impurity_decrease=0.0, min_impurity_split=None,\n",
              "                          min_samples_leaf=1, min_samples_split=2,\n",
              "                          min_weight_fraction_leaf=0.0, n_estimators=100,\n",
              "                          n_iter_no_change=None, presort='deprecated',\n",
              "                          random_state=None, subsample=1.0, tol=0.0001,\n",
              "                          validation_fraction=0.1, verbose=0, warm_start=False)"
            ]
          },
          "metadata": {
            "tags": []
          },
          "execution_count": 38
        }
      ]
    },
    {
      "cell_type": "markdown",
      "metadata": {
        "id": "CBekJ1dP6et0"
      },
      "source": [
        " Checking the score with both model"
      ]
    },
    {
      "cell_type": "code",
      "metadata": {
        "colab": {
          "base_uri": "https://localhost:8080/"
        },
        "id": "LG_fttXj6tMh",
        "outputId": "827fadb2-1fa5-4a4b-f84f-beb342c3c1aa"
      },
      "source": [
        "score=gbr.score(x_test,y_test) \n",
        "print(\"Score of Gradient Boosting Model:\",score)"
      ],
      "execution_count": null,
      "outputs": [
        {
          "output_type": "stream",
          "text": [
            "Score of Gradient Boosting Model: 0.5273012198171694\n"
          ],
          "name": "stdout"
        }
      ]
    },
    {
      "cell_type": "markdown",
      "metadata": {
        "id": "MDe0VUQG7cPj"
      },
      "source": [
        "Predicting the output with our build models"
      ]
    },
    {
      "cell_type": "code",
      "metadata": {
        "colab": {
          "base_uri": "https://localhost:8080/"
        },
        "id": "tLrC9sMh7jJ5",
        "outputId": "7bc03654-09f6-48c6-ae67-2d27558756d5"
      },
      "source": [
        "y_pred=gbr.predict(x_test) \n",
        "print(\"prediction made by Gradient Boosting Model:\",y_pred)"
      ],
      "execution_count": null,
      "outputs": [
        {
          "output_type": "stream",
          "text": [
            "prediction made by Gradient Boosting Model: [  4.55535715   6.13924944   8.3103414    4.55535715  79.28073\n",
            "   8.3103414   82.37929306 105.23536101   4.55535715  13.98890572\n",
            "  24.80482036 127.52490418  85.98171458  64.24831025   4.55535715\n",
            "  48.30763179  85.98171458  21.66726965   4.55535715  48.65225708\n",
            "  49.62645024  43.59394437 132.97937578   4.55535715  24.34745937\n",
            "  54.27582011   6.20388473 105.23536101  48.30763179  51.49524396\n",
            "  85.98171458  15.31376402  54.08690429  30.68267882  13.98890572\n",
            "  81.58867692   8.3103414  106.04237365  82.05825569  81.09906633\n",
            "   6.20388473  13.98890572  51.49524396 134.73851668   6.20388473\n",
            "   7.4860034   18.04285493   4.55535715   7.4860034   51.49524396\n",
            "  50.48872022  30.68267882 113.7203904   85.98171458 134.73851668\n",
            "   4.55535715  96.74659502  48.30763179   7.4860034   50.48872022\n",
            "   8.3103414   88.03586731  82.37929306   8.3103414   37.0512075\n",
            "  50.48872022  51.49524396  84.8380084  122.64117005  45.51837856\n",
            " 127.52490418 105.23536101   7.4860034   27.33051989  51.49524396\n",
            "  48.30763179 110.14050787  73.0767634   13.98890572  52.56810564\n",
            "  75.57413619  51.49524396  96.74659502 129.53430607  48.65225708\n",
            "  21.66726965  49.62645024  49.62645024  82.37929306 105.23536101\n",
            "  92.635069    21.66726965 105.23536101  85.98171458 116.57766173\n",
            "  19.41979086 134.73851668  51.49524396  49.62645024  13.98890572\n",
            " 131.64216111  96.74659502  88.03586731 110.19040029  73.0767634\n",
            "  27.33051989  75.57413619 130.46233535  13.98890572  75.57413619\n",
            "  56.90220965   4.55535715  85.98171458 132.97937578  21.66726965\n",
            "   4.55535715   8.3103414  102.99364147  13.98890572 132.97937578\n",
            "   4.55535715  84.8380084    7.4860034   85.98171458  79.28073\n",
            "  44.25550817  61.26557684  19.64465351  51.49524396  19.41979086\n",
            " 106.04237365  13.98890572  48.65225708  45.51837856 127.52490418\n",
            "  49.62645024  13.98890572  27.33051989   6.13924944  56.90220965\n",
            "  32.9036903   30.68267882  53.44886014  26.39415132  70.06186731\n",
            "  51.49524396  49.62645024  13.98890572  13.98890572  24.80482036\n",
            "  85.98171458 110.19040029 110.14050787  51.49524396  19.41979086\n",
            "  75.57413619  15.31376402  18.04285493  88.03586731  21.66726965\n",
            "  89.92193102  36.67499388  84.8380084   24.34745937  79.28073\n",
            "  39.8404985   44.25550817  48.30763179  30.68267882  23.9191357\n",
            "  30.68267882  85.98171458  19.41979086  19.30845483 129.53430607\n",
            "  92.75736731  94.14946806  92.635069    13.98890572 130.46233535\n",
            "  64.24831025 110.19040029  45.51837856 131.34229511  50.48872022\n",
            "   7.4860034   13.98890572  51.49524396  73.0767634   82.37929306\n",
            "  32.9036903    6.20388473  62.82721349  19.30845483   6.13924944\n",
            "  73.0767634   61.26557684  54.27582011  85.98171458   6.20388473\n",
            "  30.68267882  19.30845483 141.79124883 137.02426941  51.49524396\n",
            "  85.98171458]\n"
          ],
          "name": "stdout"
        }
      ]
    },
    {
      "cell_type": "markdown",
      "metadata": {
        "id": "V0AD1KJJtVqW"
      },
      "source": [
        "Polynomial regression"
      ]
    },
    {
      "cell_type": "code",
      "metadata": {
        "id": "q6uB8-EbyMvU"
      },
      "source": [
        "x=dataset.iloc[:,2:4].values\n",
        "y=dataset.iloc[:,5].values"
      ],
      "execution_count": null,
      "outputs": []
    },
    {
      "cell_type": "code",
      "metadata": {
        "colab": {
          "base_uri": "https://localhost:8080/"
        },
        "id": "3eWPoon6tYJ2",
        "outputId": "0fa8e93e-0d87-4dc1-fb64-5be721ab8b5a"
      },
      "source": [
        "x"
      ],
      "execution_count": null,
      "outputs": [
        {
          "output_type": "execute_result",
          "data": {
            "text/plain": [
              "array([[540. ],\n",
              "       [540. ],\n",
              "       [332.5],\n",
              "       ...,\n",
              "       [148.5],\n",
              "       [159.1],\n",
              "       [260.9]])"
            ]
          },
          "metadata": {
            "tags": []
          },
          "execution_count": 41
        }
      ]
    },
    {
      "cell_type": "code",
      "metadata": {
        "colab": {
          "base_uri": "https://localhost:8080/"
        },
        "id": "YqcwTHaxydQY",
        "outputId": "bc506bff-f957-4d3a-999c-b1262322d107"
      },
      "source": [
        "y"
      ],
      "execution_count": null,
      "outputs": [
        {
          "output_type": "execute_result",
          "data": {
            "text/plain": [
              "array([  0. ,   0. ,   0. , ..., 108.6,   0. ,  78.3])"
            ]
          },
          "metadata": {
            "tags": []
          },
          "execution_count": 42
        }
      ]
    },
    {
      "cell_type": "markdown",
      "metadata": {
        "id": "NTddERdUyekS"
      },
      "source": [
        "Apply linearRegression"
      ]
    },
    {
      "cell_type": "code",
      "metadata": {
        "id": "UdIN_wVUyhWg",
        "colab": {
          "base_uri": "https://localhost:8080/"
        },
        "outputId": "6ee4843a-1d0c-45ab-b93b-d4e1e6b5c65a"
      },
      "source": [
        "from sklearn.linear_model import LinearRegression\n",
        "linear=LinearRegression() \n",
        "linear.fit(x,y)"
      ],
      "execution_count": null,
      "outputs": [
        {
          "output_type": "execute_result",
          "data": {
            "text/plain": [
              "LinearRegression(copy_X=True, fit_intercept=True, n_jobs=None, normalize=False)"
            ]
          },
          "metadata": {
            "tags": []
          },
          "execution_count": 53
        }
      ]
    },
    {
      "cell_type": "code",
      "metadata": {
        "id": "UmDTJxZIywYR"
      },
      "source": [
        "ypred=linear.predict(x)"
      ],
      "execution_count": null,
      "outputs": []
    },
    {
      "cell_type": "code",
      "metadata": {
        "colab": {
          "base_uri": "https://localhost:8080/"
        },
        "id": "DplTxrdbzCEW",
        "outputId": "224bf07e-684a-4151-d27a-c2fa00b513e4"
      },
      "source": [
        "ypred"
      ],
      "execution_count": null,
      "outputs": [
        {
          "output_type": "execute_result",
          "data": {
            "text/plain": [
              "array([-8.81107025, -8.81107025, 41.69417151, ..., 86.47954253,\n",
              "       83.89951572, 59.12152241])"
            ]
          },
          "metadata": {
            "tags": []
          },
          "execution_count": 55
        }
      ]
    },
    {
      "cell_type": "code",
      "metadata": {
        "colab": {
          "base_uri": "https://localhost:8080/"
        },
        "id": "JOKhbUtfzEB7",
        "outputId": "0c239806-c85c-4a55-fe7c-c05fcfe2b306"
      },
      "source": [
        "y"
      ],
      "execution_count": null,
      "outputs": [
        {
          "output_type": "execute_result",
          "data": {
            "text/plain": [
              "array([  0. ,   0. ,   0. , ..., 108.6,   0. ,  78.3])"
            ]
          },
          "metadata": {
            "tags": []
          },
          "execution_count": 56
        }
      ]
    },
    {
      "cell_type": "code",
      "metadata": {
        "colab": {
          "base_uri": "https://localhost:8080/",
          "height": 265
        },
        "id": "J1aWSAVs0qVR",
        "outputId": "a92a79e3-176d-482c-c7e7-6d0f739699a9"
      },
      "source": [
        "import matplotlib.pyplot as plt\n",
        "plt.scatter(dataset[\"cement\"],dataset[\"water\"]) \n",
        "plt.show()"
      ],
      "execution_count": null,
      "outputs": [
        {
          "output_type": "display_data",
          "data": {
            "image/png": "[encoded data removed]",
            "text/plain": [
              "<Figure size 432x288 with 1 Axes>"
            ]
          },
          "metadata": {
            "tags": [],
            "needs_background": "light"
          }
        }
      ]
    },
    {
      "cell_type": "code",
      "metadata": {
        "id": "f1Ww6jDdtcX3"
      },
      "source": [
        "from sklearn.preprocessing import PolynomialFeatures\n",
        "poly_reg=PolynomialFeatures(degree=4) \n",
        "x_poly=poly_reg.fit_transform(x)"
      ],
      "execution_count": null,
      "outputs": []
    },
    {
      "cell_type": "code",
      "metadata": {
        "colab": {
          "base_uri": "https://localhost:8080/"
        },
        "id": "cKqxGgWMt2GU",
        "outputId": "dec5120b-abae-4cb8-b058-02588c556138"
      },
      "source": [
        "x_poly"
      ],
      "execution_count": null,
      "outputs": [
        {
          "output_type": "execute_result",
          "data": {
            "text/plain": [
              "array([[1.00000000e+00, 5.40000000e+02, 2.91600000e+05, 1.57464000e+08,\n",
              "        8.50305600e+10],\n",
              "       [1.00000000e+00, 5.40000000e+02, 2.91600000e+05, 1.57464000e+08,\n",
              "        8.50305600e+10],\n",
              "       [1.00000000e+00, 3.32500000e+02, 1.10556250e+05, 3.67599531e+07,\n",
              "        1.22226844e+10],\n",
              "       ...,\n",
              "       [1.00000000e+00, 1.48500000e+02, 2.20522500e+04, 3.27475912e+06,\n",
              "        4.86301730e+08],\n",
              "       [1.00000000e+00, 1.59100000e+02, 2.53128100e+04, 4.02726807e+06,\n",
              "        6.40738350e+08],\n",
              "       [1.00000000e+00, 2.60900000e+02, 6.80688100e+04, 1.77591525e+07,\n",
              "        4.63336289e+09]])"
            ]
          },
          "metadata": {
            "tags": []
          },
          "execution_count": 60
        }
      ]
    },
    {
      "cell_type": "code",
      "metadata": {
        "colab": {
          "base_uri": "https://localhost:8080/"
        },
        "id": "gPKIx-4bt38i",
        "outputId": "a6accf77-7801-4df7-8f90-f1f99fd6020e"
      },
      "source": [
        "poly_reg.fit(x_poly,y)"
      ],
      "execution_count": null,
      "outputs": [
        {
          "output_type": "execute_result",
          "data": {
            "text/plain": [
              "PolynomialFeatures(degree=4, include_bias=True, interaction_only=False,\n",
              "                   order='C')"
            ]
          },
          "metadata": {
            "tags": []
          },
          "execution_count": 61
        }
      ]
    },
    {
      "cell_type": "code",
      "metadata": {
        "colab": {
          "base_uri": "https://localhost:8080/"
        },
        "id": "N5YuZDR2ujgA",
        "outputId": "a09c2a10-0fd2-4d7d-91d7-48a7c0925a2c"
      },
      "source": [
        "y"
      ],
      "execution_count": null,
      "outputs": [
        {
          "output_type": "execute_result",
          "data": {
            "text/plain": [
              "array([  0. ,   0. ,   0. , ..., 108.6,   0. ,  78.3])"
            ]
          },
          "metadata": {
            "tags": []
          },
          "execution_count": 62
        }
      ]
    },
    {
      "cell_type": "code",
      "metadata": {
        "colab": {
          "base_uri": "https://localhost:8080/"
        },
        "id": "XCd4RZR-um7R",
        "outputId": "08d2b20a-8ee6-4822-a9e5-d4602ea3aaf4"
      },
      "source": [
        "polynomial=LinearRegression() \n",
        "polynomial.fit(x_poly,y)"
      ],
      "execution_count": null,
      "outputs": [
        {
          "output_type": "execute_result",
          "data": {
            "text/plain": [
              "LinearRegression(copy_X=True, fit_intercept=True, n_jobs=None, normalize=False)"
            ]
          },
          "metadata": {
            "tags": []
          },
          "execution_count": 63
        }
      ]
    },
    {
      "cell_type": "code",
      "metadata": {
        "colab": {
          "base_uri": "https://localhost:8080/"
        },
        "id": "CMi8du3Xu0lV",
        "outputId": "d247ab70-2f18-4bdb-c956-e5a05c69f4d7"
      },
      "source": [
        "polypred=polynomial.predict(x_poly) \n",
        "polypred\n",
        "y"
      ],
      "execution_count": null,
      "outputs": [
        {
          "output_type": "execute_result",
          "data": {
            "text/plain": [
              "array([  0. ,   0. ,   0. , ..., 108.6,   0. ,  78.3])"
            ]
          },
          "metadata": {
            "tags": []
          },
          "execution_count": 64
        }
      ]
    },
    {
      "cell_type": "markdown",
      "metadata": {
        "id": "DWRN_GXKvAnO"
      },
      "source": [
        "Accuracy"
      ]
    },
    {
      "cell_type": "code",
      "metadata": {
        "id": "tMWXKz9zvBrj"
      },
      "source": [
        "from sklearn.metrics import r2_score\n",
        "lraccuracy=r2_score(polypred,y) \n",
        "polyacc=r2_score(polypred,y)"
      ],
      "execution_count": null,
      "outputs": []
    },
    {
      "cell_type": "code",
      "metadata": {
        "id": "ZlX5Od5Iv29a",
        "colab": {
          "base_uri": "https://localhost:8080/"
        },
        "outputId": "19d5977c-819d-4f96-89cf-bece14f9befe"
      },
      "source": [
        "lraccuracy"
      ],
      "execution_count": null,
      "outputs": [
        {
          "output_type": "execute_result",
          "data": {
            "text/plain": [
              "-2.297489460998228"
            ]
          },
          "metadata": {
            "tags": []
          },
          "execution_count": 66
        }
      ]
    },
    {
      "cell_type": "code",
      "metadata": {
        "colab": {
          "base_uri": "https://localhost:8080/"
        },
        "id": "vjqP794Mv50i",
        "outputId": "19ff612b-220f-4d5f-b41b-7a8e19083ef4"
      },
      "source": [
        "polyacc"
      ],
      "execution_count": null,
      "outputs": [
        {
          "output_type": "execute_result",
          "data": {
            "text/plain": [
              "-2.297489460998228"
            ]
          },
          "metadata": {
            "tags": []
          },
          "execution_count": 67
        }
      ]
    },
    {
      "cell_type": "markdown",
      "metadata": {
        "id": "u1x8grruK_d8"
      },
      "source": [
        "Random forest algorithm"
      ]
    },
    {
      "cell_type": "code",
      "metadata": {
        "colab": {
          "base_uri": "https://localhost:8080/"
        },
        "id": "t1SBHA7wLKJq",
        "outputId": "81c51144-3a3d-45f2-e139-b84de53ed152"
      },
      "source": [
        "from sklearn.ensemble import RandomForestRegressor\n",
        "d=RandomForestRegressor(n_estimators=10,random_state=0) \n",
        "d.fit(x_train,y_train)"
      ],
      "execution_count": null,
      "outputs": [
        {
          "output_type": "execute_result",
          "data": {
            "text/plain": [
              "RandomForestRegressor(bootstrap=True, ccp_alpha=0.0, criterion='mse',\n",
              "                      max_depth=None, max_features='auto', max_leaf_nodes=None,\n",
              "                      max_samples=None, min_impurity_decrease=0.0,\n",
              "                      min_impurity_split=None, min_samples_leaf=1,\n",
              "                      min_samples_split=2, min_weight_fraction_leaf=0.0,\n",
              "                      n_estimators=10, n_jobs=None, oob_score=False,\n",
              "                      random_state=0, verbose=0, warm_start=False)"
            ]
          },
          "metadata": {
            "tags": []
          },
          "execution_count": 68
        }
      ]
    },
    {
      "cell_type": "code",
      "metadata": {
        "id": "tsJFa32XLy45"
      },
      "source": [
        "ypred=d.predict(x_test)"
      ],
      "execution_count": null,
      "outputs": []
    },
    {
      "cell_type": "code",
      "metadata": {
        "colab": {
          "base_uri": "https://localhost:8080/"
        },
        "id": "4N09kEpRL4i6",
        "outputId": "7644ae8d-27d1-43e2-f057-5ec5e3483c11"
      },
      "source": [
        "ypred"
      ],
      "execution_count": null,
      "outputs": [
        {
          "output_type": "execute_result",
          "data": {
            "text/plain": [
              "array([-8.81107025, -8.81107025, 41.69417151, ..., 86.47954253,\n",
              "       83.89951572, 59.12152241])"
            ]
          },
          "metadata": {
            "tags": []
          },
          "execution_count": 69
        }
      ]
    },
    {
      "cell_type": "code",
      "metadata": {
        "colab": {
          "base_uri": "https://localhost:8080/"
        },
        "id": "r9_5uez6L7Gc",
        "outputId": "947b411a-20b9-4c3e-8e7f-601c44ecb499"
      },
      "source": [
        "y_test"
      ],
      "execution_count": null,
      "outputs": [
        {
          "output_type": "execute_result",
          "data": {
            "text/plain": [
              "array([  0. ,   0. ,   0. ,   0. ,   0. ,   0. ,   0. , 125.2,   0. ,\n",
              "         0. ,   0. , 124.3,  95.7,   0. ,   0. ,  79. ,  99.9,   0. ,\n",
              "         0. ,  95.6,  94. ,   0. , 167. ,   0. ,   0. ,   0. ,   0. ,\n",
              "       125.4,  79. ,  24.5,   0. ,   0. ,   0. ,   0. ,   0. ,   0. ,\n",
              "         0. , 100.4,   0. , 100.5,   0. ,   0. ,  90. , 159.9,  59. ,\n",
              "         0. ,   0. ,   0. ,   0. ,   0. ,   0. ,   0. , 112. ,  95.7,\n",
              "       159.9,  60. , 121.9,  79. ,   0. , 141. ,   0. ,  94.6, 141. ,\n",
              "         0. ,   0. ,   0. ,  86.1, 194. , 133.6,   0. , 124.3, 125.2,\n",
              "         0. ,   0. ,   0. ,  79. ,  24.5,   0. ,   0. ,  94.1,   0. ,\n",
              "        97.4, 121.9, 132.1,  95.6, 113. ,  94. ,  94. , 141.6, 125.4,\n",
              "       132. ,   0. , 125.2,  99.9, 184. ,   0. , 159.9,  86.5,  94. ,\n",
              "         0. , 118.6, 123.8,  94.6, 142.7, 124.8,   0. , 117.5, 174.2,\n",
              "         0. , 106.9,   0. ,   0. ,   0. , 128.6,   0. ,   0. ,   0. ,\n",
              "         0. ,   0. , 128.6,   0. ,   0. ,   0. ,  95.7, 143. ,   0. ,\n",
              "         0. ,   0. ,  24.5,   0. , 100.4,   0. ,  95.6, 106.7,   0. ,\n",
              "        94. ,   0. ,   0. ,   0. ,   0. ,   0. ,   0. ,  96.2,  71.5,\n",
              "         0. ,   0. ,  94. ,   0. ,   0. ,   0. , 118.3, 174.9,  24.5,\n",
              "         0. ,   0. , 107. ,   0. ,   0. ,   0. ,   0. , 125.1,   0. ,\n",
              "       182.1,   0. ,   0. ,   0. ,   0. ,  79. ,   0. ,   0. ,   0. ,\n",
              "        95.7,   0. ,   0. , 143.6, 118.2, 195. , 132. ,   0. , 174.2,\n",
              "         0. , 143. ,   0. , 172.4, 141. ,   0. ,   0. ,  90.3, 124.8,\n",
              "       141. ,   0. ,   0. ,   0. ,   0. ,   0. ,   0. ,  76. , 119.8,\n",
              "       118.3,   0. ,   0. ,   0. , 148.1, 173.5,  86. ,  95.7])"
            ]
          },
          "metadata": {
            "tags": []
          },
          "execution_count": 56
        }
      ]
    },
    {
      "cell_type": "markdown",
      "metadata": {
        "id": "bNEiefJUL-ZE"
      },
      "source": [
        "Finding Accuracy"
      ]
    },
    {
      "cell_type": "code",
      "metadata": {
        "id": "5muavYziMATv"
      },
      "source": [
        "from sklearn.metrics import r2_score\n",
        "accuracy=r2_score(ypred,x_test)"
      ],
      "execution_count": null,
      "outputs": []
    },
    {
      "cell_type": "code",
      "metadata": {
        "colab": {
          "base_uri": "https://localhost:8080/"
        },
        "id": "JYziUjmIM3Kg",
        "outputId": "c2716378-56b7-4b73-a4f6-8248c83cb713"
      },
      "source": [
        "accuracy"
      ],
      "execution_count": null,
      "outputs": [
        {
          "output_type": "execute_result",
          "data": {
            "text/plain": [
              "-22.652540612549103"
            ]
          },
          "metadata": {
            "tags": []
          },
          "execution_count": 61
        }
      ]
    },
    {
      "cell_type": "code",
      "metadata": {
        "id": "X9CjGk-lNM23"
      },
      "source": [
        "from sklearn.compose import ColumnTransformer\n",
        "from sklearn.preprocessing import OneHotEncoder\n",
        "ct=ColumnTransformer([],remainder=\"passthrough\") \n",
        "x=ct.fit_transform(x)"
      ],
      "execution_count": null,
      "outputs": []
    },
    {
      "cell_type": "markdown",
      "metadata": {
        "id": "dLWsq_M_9DdN"
      },
      "source": [
        "Pickle file creation"
      ]
    },
    {
      "cell_type": "code",
      "metadata": {
        "id": "tZ2AelUi6Nn6"
      },
      "source": [
        "\n",
        "import pickle\n",
        "pickle.dump(gbr,open('cement.pkl','wb'))"
      ],
      "execution_count": null,
      "outputs": []
    },
    {
      "cell_type": "code",
      "metadata": {
        "colab": {
          "base_uri": "https://localhost:8080/"
        },
        "id": "i8w624_mW4Nm",
        "outputId": "b80b8e3f-0d85-4597-acc4-c03bfab73362"
      },
      "source": [
        "from joblib import dump\n",
        "dump(gbr,'gbr.save')"
      ],
      "execution_count": null,
      "outputs": [
        {
          "output_type": "execute_result",
          "data": {
            "text/plain": [
              "['gbr.save']"
            ]
          },
          "metadata": {
            "tags": []
          },
          "execution_count": 72
        }
      ]
    },
    {
      "cell_type": "code",
      "metadata": {
        "id": "N3IIFJCFbudB"
      },
      "source": [
        ""
      ],
      "execution_count": null,
      "outputs": []
    }
  ]
}